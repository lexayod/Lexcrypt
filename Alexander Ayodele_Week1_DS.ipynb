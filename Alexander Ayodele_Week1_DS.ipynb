{
 "cells": [
  {
   "cell_type": "markdown",
   "id": "cf8917bf-4f3e-4ee1-bc8f-7a0590b67595",
   "metadata": {},
   "source": [
    "#AYODELE Alexander Adedotun\n",
    "#FE/23/39321642\n",
    "#Data Science Week1 Assignment"
   ]
  },
  {
   "cell_type": "code",
   "execution_count": 81,
   "id": "f50629bb-6a10-4bd7-a44a-1b44102e5bbb",
   "metadata": {},
   "outputs": [
    {
     "name": "stdout",
     "output_type": "stream",
     "text": [
      "268\n",
      "22.333333333333332\n",
      "Average: 22.33\n",
      "17\n",
      "27\n",
      "Range: 10\n",
      "Mean: 22.33\n",
      "Median: 22.5\n",
      "Mode: 26\n",
      "Mode_Float: 26.0\n"
     ]
    }
   ],
   "source": [
    "#Ages of Students in Data Science Class of Twelve.\n",
    "\n",
    "ages = [17, 18, 19, 20, 22, 21, 26, 25, 24, 23, 26, 27]\n",
    "\n",
    "#Script1: Calculate Basic Statistics\n",
    "\n",
    "#SUM\n",
    "sum_total = sum(ages)\n",
    "\n",
    "print(sum_total)\n",
    "\n",
    "#AVERAGE\n",
    "avg = sum_total / len(ages)\n",
    "\n",
    "print(avg)\n",
    "\n",
    "#roundup Average to 2 decimal places\n",
    "print(\"Average:\", round(avg, 2))\n",
    "\n",
    "#MIN\n",
    "minimum = min(ages)\n",
    "print(minimum)\n",
    "\n",
    "#MAX\n",
    "maximum = max(ages)\n",
    "print(maximum)\n",
    "\n",
    "#RANGE\n",
    "range = max(ages) - min(ages)\n",
    "print(\"Range:\", range)\n",
    "\n",
    "\n",
    "#MEAN\n",
    "from statistics import mean\n",
    "\n",
    "ages = [17, 18, 19, 20, 22, 21, 26, 25, 24, 23, 26, 27]\n",
    "\n",
    "result = mean(ages)\n",
    "\n",
    "print(\"Mean:\", round (result, 2))\n",
    "\n",
    "\n",
    "#MEDIAN\n",
    "from statistics import median\n",
    "\n",
    "ages = [17, 18, 19, 20, 22, 21, 26, 25, 24, 23, 26, 27]\n",
    "\n",
    "result = median(ages)\n",
    "\n",
    "print(\"Median:\", result)\n",
    "\n",
    "#MODE\n",
    "from statistics import mode\n",
    "\n",
    "ages = [17, 18, 19, 20, 22, 21, 26, 25, 24, 23, 26, 27]\n",
    "\n",
    "result = mode(ages)\n",
    "\n",
    "print(\"Mode:\", result)\n",
    "\n",
    "#convert mode result to float\n",
    "print(\"Mode_Float:\", float(result))"
   ]
  },
  {
   "cell_type": "code",
   "execution_count": 75,
   "id": "4e7cc291-1143-4c5d-a36b-4bbcfd5ab42d",
   "metadata": {},
   "outputs": [
    {
     "name": "stdout",
     "output_type": "stream",
     "text": [
      "17.0\n",
      "8.8\n",
      "5.0\n",
      "5\n"
     ]
    }
   ],
   "source": [
    "#Script 2: Convert Integer to Float\n",
    "\n",
    "ages = [17, 18, 19, 20, 22, 21, 26, 25, 24, 23, 26, 27]\n",
    "\n",
    "\n",
    "print(float(ages[0]))\n",
    "\n",
    "print(float(ages[4]/2.5))\n",
    "\n",
    "print(float(25/5))\n",
    "\n",
    "#In the case of converting float to integer\n",
    "print(int(25/5))\n"
   ]
  },
  {
   "cell_type": "code",
   "execution_count": null,
   "id": "2eb45ab3-a15f-4213-b17d-6b4408acbcab",
   "metadata": {},
   "outputs": [],
   "source": []
  }
 ],
 "metadata": {
  "kernelspec": {
   "display_name": "Python 3 (ipykernel)",
   "language": "python",
   "name": "python3"
  },
  "language_info": {
   "codemirror_mode": {
    "name": "ipython",
    "version": 3
   },
   "file_extension": ".py",
   "mimetype": "text/x-python",
   "name": "python",
   "nbconvert_exporter": "python",
   "pygments_lexer": "ipython3",
   "version": "3.11.7"
  }
 },
 "nbformat": 4,
 "nbformat_minor": 5
}
